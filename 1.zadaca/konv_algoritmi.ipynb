{
 "cells": [
  {
   "cell_type": "markdown",
   "metadata": {},
   "source": [
    "<center><h1>  1. zadaća </h1></center>\n",
    "<center><h1>Algoritmi za određivanje konveksne ljuske skupa točaka </h1></center>"
   ]
  },
  {
   "cell_type": "markdown",
   "metadata": {},
   "source": [
    "<h2> Konveksna ljuska </h2>"
   ]
  },
  {
   "cell_type": "markdown",
   "metadata": {},
   "source": [
    "<h3> Uvod </h3>\n",
    "\n",
    "Za početak ćemo definirati osnovne pojmove vezane uz temu ovoga rada. Kažemo da je skup $ D \\subseteq \\mathbb{R}^{n} $ konveksan ako za bilo koje dvije točke $ x_{1}, x_{2} \\in \\mathbb{R}^{n} $ sadrži i segment određen tim točkama.\n",
    "\n",
    "$$ x_{1}, x_{2} \\in D \\Rightarrow \\lambda x_{1} + ( 1 - \\lambda ) x_{2}  \\in D , \\:\\: \\forall \\lambda \\in [ 0, 1 ]$$\n"
   ]
  },
  {
   "cell_type": "code",
   "execution_count": null,
   "metadata": {},
   "outputs": [],
   "source": []
  },
  {
   "cell_type": "markdown",
   "metadata": {},
   "source": [
    "<h3> Vrste algoritama </h3> \n",
    "- zajedničke stvari \n",
    "- baratanje točkama - klasa\n",
    "- udaljenosti, kutevi, \"lijeve baze\""
   ]
  },
  {
   "cell_type": "code",
   "execution_count": 5,
   "metadata": {},
   "outputs": [],
   "source": [
    "# izrada klase Točka\n",
    "class Tocka:\n",
    "    def __init__(self, x_, y_):\n",
    "        self.x = x_\n",
    "        self.y = y_\n",
    "    \n",
    "import random as rand\n",
    "\n",
    "# generiranje skupa od 100 random točaka, upisati ih u neki file?\n",
    "lista_tocaka = []\n",
    "for x in range(100):\n",
    "    x = rand.randint(1,100)\n",
    "    y = rand.randint(1,100)\n",
    "    tocka = Tocka(x,y)\n",
    "    lista_tocaka.append(tocka)\n",
    "\n",
    "# ispis točaka\n",
    "#for x in range(100):\n",
    "#    print(lista_tocaka[x].x,\", \",lista_tocaka[x].y)"
   ]
  },
  {
   "cell_type": "code",
   "execution_count": 6,
   "metadata": {},
   "outputs": [],
   "source": [
    "# funkcija lijeva_baza provjerava u kojem smjeru se tocka C nastavlja na segment AB\n",
    "# vraca pozitivan rezultat ukoliko se C nalazi lijevo gledajuci od A prema B pa k C\n",
    "# vraca negativan rezultat ukoliko se C nalazi desno gledajuci od A prema B pa k C\n",
    "# te vraca nulu ukoliko su te tri tocke kolinearne\n",
    "def lijeva_baza( tocka_A, tocka_B, tocka_C):\n",
    "    return (tocka_A.x * (tocka_B.y - tocka_C.y)) \n",
    "            + tocka_B.x * (tocka_C.y - tocka_A.y) \n",
    "            + tocka_C.x * (tocka_A.y - tocka_B.y);\n",
    "#provjeriti u pravilima, kako se ovi dugi izrazi pravilno zapisuju"
   ]
  },
  {
   "cell_type": "code",
   "execution_count": 12,
   "metadata": {},
   "outputs": [
    {
     "name": "stdout",
     "output_type": "stream",
     "text": [
      "0\n",
      "-2\n",
      "1\n"
     ]
    }
   ],
   "source": [
    "X = Tocka(1, 1)\n",
    "Y = Tocka(1, 2)\n",
    "Z = Tocka(1, 3)\n",
    "\n",
    "print( lijeva_baza(X,Y,Z) )\n",
    "Z = Tocka(3,3)\n",
    "\n",
    "print( lijeva_baza(X,Y,Z))\n",
    "\n",
    "Z = Tocka(0, 7)\n",
    "print( lijeva_baza(X,Y,Z))"
   ]
  },
  {
   "cell_type": "code",
   "execution_count": 13,
   "metadata": {},
   "outputs": [],
   "source": [
    "# kako nam trebaju samo omjeri udaljenosti, a ne same vrijednosti udaljenosti možemo računati kvadrat,\n",
    "# te izostaviti računanje korijena\n",
    "def udaljenost_tocaka( tocka_A, tocka_B):\n",
    "    return (tocka_A.x - tocka_B.x)*(tocka_A.x - tocka_B.x) + (tocka_A.y - tocka_B.y)*(tocka_A.y- tocka_B.y);"
   ]
  },
  {
   "cell_type": "code",
   "execution_count": 17,
   "metadata": {},
   "outputs": [
    {
     "name": "stdout",
     "output_type": "stream",
     "text": [
      "False\n",
      "True\n"
     ]
    }
   ],
   "source": [
    "print( udaljenost_tocaka(X,Y) > udaljenost_tocaka(Y,Z))\n",
    "print( udaljenost_tocaka(X,Y) >= udaljenost_tocaka(Y,X))"
   ]
  },
  {
   "cell_type": "code",
   "execution_count": 27,
   "metadata": {},
   "outputs": [],
   "source": [
    "# kao početnu točku tražim najnižu točku, dakle onu s najmanjom y vrijednosti\n",
    "# ukoliko dvije točke imaju jednaku najmanju y vrijednost, tražimo onu \"lijeviju\", dakle s manjom x vrijednosti\n",
    "def Y_min_tocka( lista_tocaka):\n",
    "    tocka_minY = lista_tocaka[0]\n",
    "    for tocka in lista_tocaka:\n",
    "        if ( ( tocka.y < tocka_minY.y ) or ( tocka.y == tocka_minY.y and tocka.x < tocka_minY.x ) ):\n",
    "            tocka_minY = tocka\n",
    "    return tocka_minY    "
   ]
  },
  {
   "cell_type": "code",
   "execution_count": 28,
   "metadata": {},
   "outputs": [
    {
     "name": "stdout",
     "output_type": "stream",
     "text": [
      "X :  7 , Y : 2\n",
      "X :  5 , Y : 8\n",
      "X :  3 , Y : 10\n",
      "X :  2 , Y : 6\n",
      "X :  4 , Y : 8\n",
      "7 2\n"
     ]
    }
   ],
   "source": [
    "lista_tocaka2 = []\n",
    "pocetna_tocka = Tocka(0,0)\n",
    "for x in range(5):\n",
    "    x = rand.randint(1,10)\n",
    "    y = rand.randint(1,10)\n",
    "    tocka = Tocka(x,y)\n",
    "    lista_tocaka2.append(tocka)\n",
    "    print(\"X : \",x,\", Y :\",y)\n",
    "pocetna_tocka = Y_min_tocka(lista_tocaka2)\n",
    "\n",
    "print(pocetna_tocka.x, pocetna_tocka.y)"
   ]
  },
  {
   "cell_type": "markdown",
   "metadata": {},
   "source": [
    "<h3> Graham algoritam </h3>\n",
    "\n",
    "- opcenito o algoritmu\n",
    "- pseudokod\n",
    "- implementacija ( dio po dio )\n",
    "- graf\n",
    "- animacija?"
   ]
  },
  {
   "cell_type": "markdown",
   "metadata": {},
   "source": [
    "<h3> Jarvis march </h3>\n",
    "\n",
    "- opcenito o algoritmu\n",
    "- pseudokod\n",
    "- implementacija ( dio po dio )\n",
    "- graf\n",
    "- animacija?"
   ]
  },
  {
   "cell_type": "markdown",
   "metadata": {},
   "source": [
    "<h3> Primjena </h3>\n",
    "\n",
    "- nabrojati primjere\n",
    "- implementacija ( dio po dio )"
   ]
  },
  {
   "cell_type": "markdown",
   "metadata": {},
   "source": [
    "<h3> 3D konveksne ljuske ( konveksna zatvorenja ) </h3>\n",
    "- nagovještaj "
   ]
  }
 ],
 "metadata": {
  "kernelspec": {
   "display_name": "Python 3",
   "language": "python",
   "name": "python3"
  },
  "language_info": {
   "codemirror_mode": {
    "name": "ipython",
    "version": 3
   },
   "file_extension": ".py",
   "mimetype": "text/x-python",
   "name": "python",
   "nbconvert_exporter": "python",
   "pygments_lexer": "ipython3",
   "version": "3.6.4"
  }
 },
 "nbformat": 4,
 "nbformat_minor": 2
}
